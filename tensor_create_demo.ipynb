{
 "cells": [
  {
   "cell_type": "markdown",
   "id": "47823ed4",
   "metadata": {},
   "source": [
    "# Tensor的创建操作实例"
   ]
  },
  {
   "cell_type": "markdown",
   "id": "7dd01bae",
   "metadata": {},
   "source": [
    "- 以下操作都可以用numpy实现，可以理解为在numpy输出的数组上套了一层tensor的外衣\n",
    "- 很多numpy的操作在tensor中存在，很多tensor的操作在numpy中也存在"
   ]
  },
  {
   "cell_type": "code",
   "execution_count": 1,
   "id": "46ad2997",
   "metadata": {},
   "outputs": [],
   "source": [
    "import torch"
   ]
  },
  {
   "cell_type": "markdown",
   "id": "179f7c24",
   "metadata": {},
   "source": [
    "## Tensor(data) VS tensor(data)"
   ]
  },
  {
   "cell_type": "markdown",
   "id": "f10a2aab",
   "metadata": {},
   "source": [
    "### Tensor(data)\n",
    "- 当Tensor()中导入的是数据变量时，其含义为创建一个浮点型张量，是torch.FloatTensor的简写\n",
    "- 用Tensor直接创建的张量能且仅能是浮点型张量，无法创建其他数据类型张量"
   ]
  },
  {
   "cell_type": "code",
   "execution_count": 2,
   "id": "8cdd9eb9",
   "metadata": {},
   "outputs": [
    {
     "name": "stdout",
     "output_type": "stream",
     "text": [
      "tensor([[1., 2., 3.],\n",
      "        [4., 5., 6.]])\n",
      "torch.FloatTensor\n"
     ]
    }
   ],
   "source": [
    "a = torch.Tensor([[1, 2, 3], [4, 5, 6]])\n",
    "print(a)\n",
    "print(a.type())"
   ]
  },
  {
   "cell_type": "markdown",
   "id": "9bbec399",
   "metadata": {},
   "source": [
    "### tensor(data)\n",
    "- tesnor()能根据导入的data类型自动识别并创建对应的张量类型\n",
    "- tensor()创建张量除了自动识别数据类型，还可以指定数据类型\n",
    "- tensor()只能根据导入的数据创建张量"
   ]
  },
  {
   "cell_type": "code",
   "execution_count": 3,
   "id": "71b2778a",
   "metadata": {},
   "outputs": [
    {
     "name": "stdout",
     "output_type": "stream",
     "text": [
      "tensor([[1, 2, 3],\n",
      "        [4, 5, 6]])\n",
      "torch.LongTensor\n",
      "tensor([[1., 2., 3.],\n",
      "        [4., 5., 6.]], dtype=torch.float16)\n",
      "torch.HalfTensor\n"
     ]
    }
   ],
   "source": [
    "b = torch.tensor([[1, 2, 3], [4, 5, 6]])\n",
    "print(b)\n",
    "print(b.type())\n",
    "c = torch.tensor([[1, 2, 3], [4, 5, 6]], dtype=torch.float16)\n",
    "print(c)\n",
    "print(c.type())"
   ]
  },
  {
   "cell_type": "markdown",
   "id": "4ba1348b",
   "metadata": {},
   "source": [
    "## Tensor(*size)\n",
    "- 通过输入一系列数来确定张量的形状\n",
    "- 张量的形状类似numpy的ndarray\n",
    "- 创建出来的张量都是浮点型张量(torch.FloatTensor)\n",
    "- 通过Tensor获取的值是直接从内存中截取出来的没有经过初始化的数据，没有任何意义"
   ]
  },
  {
   "cell_type": "code",
   "execution_count": 4,
   "id": "442f776d",
   "metadata": {},
   "outputs": [
    {
     "name": "stdout",
     "output_type": "stream",
     "text": [
      "tensor([[1.8516e-18, 0.0000e+00, 0.0000e+00],\n",
      "        [0.0000e+00, 0.0000e+00, 0.0000e+00]])\n",
      "torch.FloatTensor\n",
      "tensor([[[1.8421e-18, 0.0000e+00, 0.0000e+00, 0.0000e+00],\n",
      "         [8.2848e-16, 0.0000e+00, 1.2278e+34, 4.3344e-41],\n",
      "         [8.2848e-16, 0.0000e+00, 9.1477e-41, 0.0000e+00]],\n",
      "\n",
      "        [[1.1210e-44, 0.0000e+00, 3.5873e-43, 0.0000e+00],\n",
      "         [1.3352e+34, 4.3344e-41, 0.0000e+00, 0.0000e+00],\n",
      "         [0.0000e+00, 0.0000e+00, 0.0000e+00, 0.0000e+00]]])\n",
      "torch.FloatTensor\n"
     ]
    }
   ],
   "source": [
    "d = torch.Tensor(2, 3)  # 创建一个2行3列的张量\n",
    "print(d)\n",
    "print(d.type())\n",
    "e = torch.Tensor(2, 3, 4)  # 创建一个2层3行4列的张量\n",
    "print(e)\n",
    "print(e.type())"
   ]
  },
  {
   "cell_type": "markdown",
   "id": "be3eb9a4",
   "metadata": {},
   "source": [
    "## 几种特殊的Tensor"
   ]
  },
  {
   "cell_type": "markdown",
   "id": "410ec9f5",
   "metadata": {},
   "source": [
    "### ones(*size)\n",
    "- 输入参数为张量的形状\n",
    "- 创造值全为1的张量\n",
    "- 创造的张量为浮点型"
   ]
  },
  {
   "cell_type": "code",
   "execution_count": 5,
   "id": "2966a4fa",
   "metadata": {},
   "outputs": [
    {
     "name": "stdout",
     "output_type": "stream",
     "text": [
      "tensor([[1., 1., 1.],\n",
      "        [1., 1., 1.]])\n",
      "torch.FloatTensor\n"
     ]
    }
   ],
   "source": [
    "f = torch.ones(2, 3)  # 创建一个2行3列的张量，值全部为1\n",
    "print(f)\n",
    "print(f.type())"
   ]
  },
  {
   "cell_type": "markdown",
   "id": "f8adfe1c",
   "metadata": {},
   "source": [
    "### zeros(*size)\n",
    "- 输入参数为张量的形状\n",
    "- 创造值全为0的张量\n",
    "- 创造的张量为浮点型"
   ]
  },
  {
   "cell_type": "code",
   "execution_count": 6,
   "id": "4553c400",
   "metadata": {},
   "outputs": [
    {
     "name": "stdout",
     "output_type": "stream",
     "text": [
      "tensor([[0., 0., 0.],\n",
      "        [0., 0., 0.]])\n",
      "torch.FloatTensor\n"
     ]
    }
   ],
   "source": [
    "g = torch.zeros(2, 3)  # 创建一个2行3列的张量，值全部为0\n",
    "print(g)\n",
    "print(g.type())"
   ]
  },
  {
   "cell_type": "markdown",
   "id": "5d41a9a3",
   "metadata": {},
   "source": [
    "### ones_like(*tensor)\n",
    "- 输入的参数为张量\n",
    "- 根据输入的张量创建一个值全为1的张量\n",
    "- 创建的张量与输入的张量形状相同\n",
    "- 张量类型与输入的张量相同"
   ]
  },
  {
   "cell_type": "code",
   "execution_count": 7,
   "id": "5e61d424",
   "metadata": {},
   "outputs": [
    {
     "name": "stdout",
     "output_type": "stream",
     "text": [
      "tensor([[1, 1, 1],\n",
      "        [1, 1, 1]])\n",
      "torch.LongTensor\n"
     ]
    }
   ],
   "source": [
    "h = torch.ones_like(b)  # 创建一个和b形状相同的张量，值全部为1\n",
    "print(h)\n",
    "print(h.type())"
   ]
  },
  {
   "cell_type": "code",
   "execution_count": 8,
   "id": "d72ca752",
   "metadata": {},
   "outputs": [
    {
     "name": "stdout",
     "output_type": "stream",
     "text": [
      "tensor([[1., 1., 1.],\n",
      "        [1., 1., 1.]])\n",
      "torch.FloatTensor\n"
     ]
    }
   ],
   "source": [
    "h = torch.ones_like(a)  # 创建一个和a形状相同的张量，值全部为1\n",
    "print(h)\n",
    "print(h.type())"
   ]
  },
  {
   "cell_type": "markdown",
   "id": "b404fe2e",
   "metadata": {},
   "source": [
    "### zeros_like(*tensor)\n",
    "- 输入的参数为张量\n",
    "- 根据输入的张量创建一个值全为0的张量\n",
    "- 创建的张量与输入的张量形状相同\n",
    "- 张量类型与输入的张量相同"
   ]
  },
  {
   "cell_type": "code",
   "execution_count": 9,
   "id": "1e912ba5",
   "metadata": {},
   "outputs": [
    {
     "name": "stdout",
     "output_type": "stream",
     "text": [
      "tensor([[0, 0, 0],\n",
      "        [0, 0, 0]])\n",
      "torch.LongTensor\n"
     ]
    }
   ],
   "source": [
    "i = torch.zeros_like(b)  # 创建一个和b形状相同的张量，值全部为0\n",
    "print(i)\n",
    "print(i.type())"
   ]
  },
  {
   "cell_type": "code",
   "execution_count": 10,
   "id": "5d1df201",
   "metadata": {},
   "outputs": [
    {
     "name": "stdout",
     "output_type": "stream",
     "text": [
      "tensor([[0., 0., 0.],\n",
      "        [0., 0., 0.]])\n",
      "torch.FloatTensor\n"
     ]
    }
   ],
   "source": [
    "i = torch.zeros_like(a)  # 创建一个和a形状相同的张量，值全部为0\n",
    "print(i)\n",
    "print(i.type())"
   ]
  },
  {
   "cell_type": "markdown",
   "id": "4f834c1d",
   "metadata": {},
   "source": [
    "## 随机数Tensor的创建"
   ]
  },
  {
   "cell_type": "markdown",
   "id": "bdf05286",
   "metadata": {},
   "source": [
    "### rand(*size)\n",
    "- 输入参数为张量的形状\n",
    "- 创建值为[0, 1)之间的随机数的张量"
   ]
  },
  {
   "cell_type": "code",
   "execution_count": 11,
   "id": "80354742",
   "metadata": {},
   "outputs": [
    {
     "name": "stdout",
     "output_type": "stream",
     "text": [
      "tensor([[0.0489, 0.1844, 0.3024],\n",
      "        [0.5967, 0.8267, 0.2104]])\n",
      "torch.FloatTensor\n"
     ]
    }
   ],
   "source": [
    "j = torch.rand(2, 3)  # 创建一个2行3列的张量，值为0到1之间的随机数\n",
    "print(j)\n",
    "print(j.type())"
   ]
  },
  {
   "cell_type": "markdown",
   "id": "ae842d63",
   "metadata": {},
   "source": [
    "### normal()\n",
    "- normal()函数创建的张量是正态分布的随机数张量\n",
    "- normal()函数的输入参数为均值和标准差，但输入参数可以是标量也可以是张量(如下图所示)"
   ]
  },
  {
   "attachments": {
    "image.png": {
     "image/png": "[encoded data removed]"
    }
   },
   "cell_type": "markdown",
   "id": "c612bbd5",
   "metadata": {},
   "source": [
    "![image.png](attachment:image.png)"
   ]
  },
  {
   "cell_type": "code",
   "execution_count": 12,
   "id": "71b65855",
   "metadata": {},
   "outputs": [
    {
     "name": "stdout",
     "output_type": "stream",
     "text": [
      "tensor([[-0.1094,  0.2032,  0.0812],\n",
      "        [ 0.0673, -1.2489, -0.2569]])\n",
      "torch.FloatTensor\n"
     ]
    }
   ],
   "source": [
    "# 创建一个2行3列的张量，值为从正态分布中截取的随机数，张量中每个元素的均值为0，标准差为随机生成的0到1之间的数\n",
    "k = torch.normal(mean= 0, std= torch.rand(2, 3))\n",
    "print(k)\n",
    "print(k.type())"
   ]
  },
  {
   "cell_type": "code",
   "execution_count": 13,
   "id": "2803ff7b",
   "metadata": {},
   "outputs": [
    {
     "name": "stdout",
     "output_type": "stream",
     "text": [
      "tensor([[-0.2492,  0.6204,  1.8697],\n",
      "        [ 0.1784,  0.4693,  0.9255]])\n",
      "torch.FloatTensor\n"
     ]
    }
   ],
   "source": [
    "# 创建一个2行3列的张量，值为从正态分布中截取的随机数，张量中每个元素的标准差为随机生成的0到1之间的数，均值为随机生成的0到1之间的数\n",
    "l = torch.normal(mean= torch.rand(2, 3), std= torch.rand(2, 3))\n",
    "print(l)\n",
    "print(l.type())"
   ]
  },
  {
   "cell_type": "markdown",
   "id": "8f4200b8",
   "metadata": {},
   "source": [
    "### uniform_()\n",
    "- uniform_()函数创建的张量是均匀分布的随机数张量\n",
    "- uniform_()使用需要先创建一个空的张量，然后使用uniform()方法来填充随机数"
   ]
  },
  {
   "cell_type": "code",
   "execution_count": null,
   "id": "da89deb8",
   "metadata": {},
   "outputs": [
    {
     "name": "stdout",
     "output_type": "stream",
     "text": [
      "tensor([[0.1946, 0.8768, 0.2178],\n",
      "        [0.0963, 0.0806, 0.8829]])\n",
      "torch.FloatTensor\n"
     ]
    }
   ],
   "source": [
    "# 创建一个2行3列的张量，值为从均匀分布中截取的随机数，张量中每个元素的值在0到1之间\n",
    "m = torch.empty(2, 3).uniform_(0, 1)  # 此处empty()可以用Tensor()代替\n",
    "print(m)\n",
    "print(m.type())"
   ]
  },
  {
   "cell_type": "markdown",
   "id": "374b846a",
   "metadata": {},
   "source": [
    "## 序列张量的创建"
   ]
  },
  {
   "cell_type": "markdown",
   "id": "be5979b7",
   "metadata": {},
   "source": [
    "### arrange(start, end, step)\n",
    "- 输入参数为起始值、终止值和步长\n",
    "- 创建一个等差数列的张量\n",
    "- 该等差数列类似range()函数，start、end构成的是一个左闭右开区间[start, end)\n",
    "- 张量类型会根据输出张量的值的数据类型自动识别"
   ]
  },
  {
   "cell_type": "code",
   "execution_count": 15,
   "id": "ce0c0d72",
   "metadata": {},
   "outputs": [
    {
     "name": "stdout",
     "output_type": "stream",
     "text": [
      "tensor([0, 2, 4, 6, 8])\n",
      "torch.LongTensor\n"
     ]
    }
   ],
   "source": [
    "# 创建一个从0到10之间，步长为2的张量\n",
    "n = torch.arange(0, 10, 2)  # 类似range()函数，start,end构成左闭右开区间\n",
    "print(n)\n",
    "print(n.type())"
   ]
  },
  {
   "cell_type": "markdown",
   "id": "2acbaadd",
   "metadata": {},
   "source": [
    "### linespace(start, end, steps)\n",
    "- 输入参数为起始值、终止值和步数\n",
    "- 创建一个等差数列的张量\n",
    "- 该等差数列类似numpy的linspace()函数，start、end构成的是一个闭区间[start, end]\n",
    "- 张量类型始终为浮点型张量(torch.FloatTensor)"
   ]
  },
  {
   "cell_type": "code",
   "execution_count": 16,
   "id": "6279920c",
   "metadata": {},
   "outputs": [
    {
     "name": "stdout",
     "output_type": "stream",
     "text": [
      "tensor([0., 1., 2., 3., 4.])\n",
      "torch.FloatTensor\n"
     ]
    }
   ],
   "source": [
    "# 创建一个从0到1之间，包含5个元素的张量，元素之间的间隔相等\n",
    "o = torch.linspace(0, 4, steps=5)  # 类似numpy的linspace()函数，start,end构成闭区间\n",
    "print(o)\n",
    "print(o.type())"
   ]
  },
  {
   "cell_type": "markdown",
   "id": "5c414a05",
   "metadata": {},
   "source": [
    "### randperm()\n",
    "- 输入参数为一个整数n\n",
    "- 创建一个包含0到n-1的随机排列的张量\n",
    "- 张量类型始终为整数型张量(torch.LongTensor)\n",
    "- 可以用于打乱样本索引"
   ]
  },
  {
   "cell_type": "code",
   "execution_count": 17,
   "id": "2208136a",
   "metadata": {},
   "outputs": [
    {
     "name": "stdout",
     "output_type": "stream",
     "text": [
      "tensor([9, 7, 4, 0, 8, 5, 1, 3, 2, 6])\n",
      "torch.LongTensor\n"
     ]
    }
   ],
   "source": [
    "p = torch.randperm(10)  # 创建一个包含0到9之间的随机排列的张量\n",
    "print(p)\n",
    "print(p.type())"
   ]
  }
 ],
 "metadata": {
  "kernelspec": {
   "display_name": "base",
   "language": "python",
   "name": "python3"
  },
  "language_info": {
   "codemirror_mode": {
    "name": "ipython",
    "version": 3
   },
   "file_extension": ".py",
   "mimetype": "text/x-python",
   "name": "python",
   "nbconvert_exporter": "python",
   "pygments_lexer": "ipython3",
   "version": "3.13.5"
  }
 },
 "nbformat": 4,
 "nbformat_minor": 5
}
