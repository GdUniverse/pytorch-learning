{
 "cells": [
  {
   "cell_type": "markdown",
   "id": "8f8d634c",
   "metadata": {},
   "source": [
    "# Tensor的广播机制\n",
    "\n",
    "广播就是把某维度形状较小的张量补齐，是某维度较小的张量的形状经补齐后和和另一张量在该维度上一致。\n",
    "\n",
    "补齐的方法就是把某维度较小的张量原本的值和形状作为一个单元进行复制填充，直至和另一个张量的形状一致。\n",
    "\n",
    "广播机制对任意的两个张量间的运算都适用。"
   ]
  },
  {
   "cell_type": "code",
   "execution_count": 1,
   "id": "e6768202",
   "metadata": {},
   "outputs": [],
   "source": [
    "import torch"
   ]
  },
  {
   "cell_type": "markdown",
   "id": "93a1ccdc",
   "metadata": {},
   "source": [
    "## 满足右对齐要求"
   ]
  },
  {
   "cell_type": "markdown",
   "id": "ed39073c",
   "metadata": {},
   "source": [
    "a为(2, 3)形状的张量，b为(1, 3)形状的张量。"
   ]
  },
  {
   "cell_type": "code",
   "execution_count": 2,
   "id": "5c15c06e",
   "metadata": {},
   "outputs": [
    {
     "name": "stdout",
     "output_type": "stream",
     "text": [
      "a: tensor([[0.0430, 0.8239, 0.6739],\n",
      "        [0.5652, 0.0201, 0.1771]])\n",
      "b: tensor([0.4082, 0.9218, 0.4180])\n",
      "c: tensor([[0.4512, 1.7457, 1.0918],\n",
      "        [0.9734, 0.9419, 0.5951]])\n",
      "c.shape: torch.Size([2, 3])\n"
     ]
    }
   ],
   "source": [
    "a = torch.rand(2, 3)\n",
    "b = torch.rand(3)\n",
    "c = a + b\n",
    "print(\"a:\", a)\n",
    "print(\"b:\", b)\n",
    "print(\"c:\", c)\n",
    "print(\"c.shape:\", c.shape)"
   ]
  },
  {
   "cell_type": "markdown",
   "id": "d1bd0b7c",
   "metadata": {},
   "source": [
    "a为(2, 1)形状的张量，b为(1, 3)形状的张量。"
   ]
  },
  {
   "cell_type": "code",
   "execution_count": 3,
   "id": "337325a9",
   "metadata": {},
   "outputs": [
    {
     "name": "stdout",
     "output_type": "stream",
     "text": [
      "a: tensor([[0.9040],\n",
      "        [0.7024]])\n",
      "b: tensor([0.8064, 0.1815, 0.4285])\n",
      "c: tensor([[1.7105, 1.0855, 1.3325],\n",
      "        [1.5088, 0.8839, 1.1309]])\n",
      "c.shape: torch.Size([2, 3])\n"
     ]
    }
   ],
   "source": [
    "a = torch.rand(2, 1)\n",
    "b = torch.rand(3)\n",
    "c = a + b\n",
    "print(\"a:\", a)\n",
    "print(\"b:\", b)\n",
    "print(\"c:\", c)\n",
    "print(\"c.shape:\", c.shape)"
   ]
  },
  {
   "cell_type": "markdown",
   "id": "02f598cd",
   "metadata": {},
   "source": [
    "a为(2, 1, 1, 3)形状的张量，b为(1, 4, 2, 3)形状的张量。"
   ]
  },
  {
   "cell_type": "code",
   "execution_count": 4,
   "id": "8b5dbf96",
   "metadata": {},
   "outputs": [
    {
     "name": "stdout",
     "output_type": "stream",
     "text": [
      "a: tensor([[[[0.3855, 0.7683, 0.8400]]],\n",
      "\n",
      "\n",
      "        [[[0.5811, 0.8313, 0.8269]]]])\n",
      "b: tensor([[[0.2821, 0.5409, 0.0626],\n",
      "         [0.4835, 0.5338, 0.2162]],\n",
      "\n",
      "        [[0.3739, 0.4723, 0.9280],\n",
      "         [0.7640, 0.2223, 0.0095]],\n",
      "\n",
      "        [[0.8255, 0.8111, 0.7909],\n",
      "         [0.5049, 0.6182, 0.6096]],\n",
      "\n",
      "        [[0.4972, 0.2855, 0.8664],\n",
      "         [0.4855, 0.1820, 0.1155]]])\n",
      "c: tensor([[[[0.6675, 1.3092, 0.9027],\n",
      "          [0.8690, 1.3021, 1.0562]],\n",
      "\n",
      "         [[0.7594, 1.2407, 1.7680],\n",
      "          [1.1494, 0.9906, 0.8495]],\n",
      "\n",
      "         [[1.2110, 1.5794, 1.6309],\n",
      "          [0.8903, 1.3865, 1.4497]],\n",
      "\n",
      "         [[0.8826, 1.0538, 1.7064],\n",
      "          [0.8710, 0.9503, 0.9556]]],\n",
      "\n",
      "\n",
      "        [[[0.8632, 1.3722, 0.8895],\n",
      "          [1.0646, 1.3651, 1.0431]],\n",
      "\n",
      "         [[0.9550, 1.3036, 1.7549],\n",
      "          [1.3451, 1.0536, 0.8364]],\n",
      "\n",
      "         [[1.4066, 1.6423, 1.6178],\n",
      "          [1.0859, 1.4495, 1.4365]],\n",
      "\n",
      "         [[1.0783, 1.1167, 1.6933],\n",
      "          [1.0666, 1.0133, 0.9424]]]])\n",
      "c.shape: torch.Size([2, 4, 2, 3])\n"
     ]
    }
   ],
   "source": [
    "a = torch.rand(2, 1, 1, 3)\n",
    "b = torch.rand(4, 2, 3)\n",
    "c = a + b\n",
    "print(\"a:\", a)\n",
    "print(\"b:\", b)\n",
    "print(\"c:\", c)\n",
    "print(\"c.shape:\", c.shape)"
   ]
  },
  {
   "cell_type": "markdown",
   "id": "74808cc7",
   "metadata": {},
   "source": [
    "## 不满足右对齐要求"
   ]
  },
  {
   "cell_type": "code",
   "execution_count": 5,
   "id": "51a273f5",
   "metadata": {},
   "outputs": [
    {
     "ename": "RuntimeError",
     "evalue": "The size of tensor a (3) must match the size of tensor b (2) at non-singleton dimension 1",
     "output_type": "error",
     "traceback": [
      "\u001b[31m---------------------------------------------------------------------------\u001b[39m",
      "\u001b[31mRuntimeError\u001b[39m                              Traceback (most recent call last)",
      "\u001b[36mCell\u001b[39m\u001b[36m \u001b[39m\u001b[32mIn[5]\u001b[39m\u001b[32m, line 3\u001b[39m\n\u001b[32m      1\u001b[39m a = torch.rand(\u001b[32m2\u001b[39m, \u001b[32m3\u001b[39m)\n\u001b[32m      2\u001b[39m b = torch.rand(\u001b[32m2\u001b[39m)\n\u001b[32m----> \u001b[39m\u001b[32m3\u001b[39m c = \u001b[43ma\u001b[49m\u001b[43m \u001b[49m\u001b[43m+\u001b[49m\u001b[43m \u001b[49m\u001b[43mb\u001b[49m\n",
      "\u001b[31mRuntimeError\u001b[39m: The size of tensor a (3) must match the size of tensor b (2) at non-singleton dimension 1"
     ]
    }
   ],
   "source": [
    "a = torch.rand(2, 3)\n",
    "b = torch.rand(2)\n",
    "c = a + b"
   ]
  }
 ],
 "metadata": {
  "kernelspec": {
   "display_name": "base",
   "language": "python",
   "name": "python3"
  },
  "language_info": {
   "codemirror_mode": {
    "name": "ipython",
    "version": 3
   },
   "file_extension": ".py",
   "mimetype": "text/x-python",
   "name": "python",
   "nbconvert_exporter": "python",
   "pygments_lexer": "ipython3",
   "version": "3.12.7"
  }
 },
 "nbformat": 4,
 "nbformat_minor": 5
}
