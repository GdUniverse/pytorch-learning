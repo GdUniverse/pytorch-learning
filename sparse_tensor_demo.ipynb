{
 "cells": [
  {
   "cell_type": "markdown",
   "id": "01ecb4ac",
   "metadata": {},
   "source": [
    "# Tensor的属性设置"
   ]
  },
  {
   "cell_type": "code",
   "execution_count": 1,
   "id": "883bd71b",
   "metadata": {},
   "outputs": [],
   "source": [
    "import torch"
   ]
  },
  {
   "cell_type": "markdown",
   "id": "2b165fca",
   "metadata": {},
   "source": [
    "## 指定Tensor的设备\n",
    "- 在PyTorch中，可以通过`torch.device`来指定Tensor的设备。常用的设备包括CPU和GPU。\n",
    "- 使用`torch.device(\"cpu\")`来指定CPU设备。\n",
    "- 如果只有有一个显卡，则使用`torch.device(\"cuda\")`来制定GPU设备；如果有多张显卡，则使用`torch.device(\"cuda:0\")`来指定第一个GPU设备。"
   ]
  },
  {
   "cell_type": "code",
   "execution_count": 2,
   "id": "a333ba51",
   "metadata": {},
   "outputs": [],
   "source": [
    "# 设置设备\n",
    "dev = torch.device(\"cuda:0\")"
   ]
  },
  {
   "cell_type": "code",
   "execution_count": 3,
   "id": "15bd3568",
   "metadata": {},
   "outputs": [
    {
     "name": "stdout",
     "output_type": "stream",
     "text": [
      "tensor([[0, 1, 2],\n",
      "        [2, 0, 1]])\n",
      "torch.LongTensor\n"
     ]
    }
   ],
   "source": [
    "a = torch.tensor([[0, 1, 2], [2, 0, 1]])  # 创建张量，不指定设备的情况下默认为 CPU\n",
    "print(a)\n",
    "print(a.type())"
   ]
  },
  {
   "cell_type": "code",
   "execution_count": 4,
   "id": "af98cc55",
   "metadata": {},
   "outputs": [
    {
     "name": "stdout",
     "output_type": "stream",
     "text": [
      "tensor([[0, 1, 2],\n",
      "        [2, 0, 1]], device='cuda:0')\n",
      "torch.cuda.LongTensor\n"
     ]
    }
   ],
   "source": [
    "b = torch.tensor([[0, 1, 2], [2, 0, 1]], device=dev)  # 创建张量并指定设备\n",
    "print(b)\n",
    "print(b.type())"
   ]
  },
  {
   "cell_type": "markdown",
   "id": "8da265fd",
   "metadata": {},
   "source": [
    "## 稀疏张量\n",
    "- 创建稀疏张量需要指定索引和对应的值。\n",
    "- 使用`torch.sparse_coo_tensor(indices, values, size)`来创建稀疏张量\n",
    "- 其中`indices`是一个二维张量，`values`是一个一维张量，`size`是元组，示稀疏张量的形状。\n",
    "- `indices`的每一列表示一个非零元素的位置，`values`的每个元素对应于`indices`中相应位置的值。\n",
    "- `indices`的坐标描述规则类似numpy的shape。\n",
    "- 稀疏张量可以通过`to_dense()`方法转换为稠密张量。"
   ]
  },
  {
   "cell_type": "code",
   "execution_count": 5,
   "id": "bf1e5da0",
   "metadata": {},
   "outputs": [
    {
     "name": "stdout",
     "output_type": "stream",
     "text": [
      "tensor(indices=tensor([[2, 1, 0],\n",
      "                       [0, 1, 2],\n",
      "                       [0, 1, 2]]),\n",
      "       values=tensor([3, 4, 5]),\n",
      "       size=(3, 3, 3), nnz=3, layout=torch.sparse_coo)\n",
      "torch.sparse.LongTensor\n",
      "tensor([[[0, 0, 0],\n",
      "         [0, 0, 0],\n",
      "         [0, 0, 5]],\n",
      "\n",
      "        [[0, 0, 0],\n",
      "         [0, 4, 0],\n",
      "         [0, 0, 0]],\n",
      "\n",
      "        [[3, 0, 0],\n",
      "         [0, 0, 0],\n",
      "         [0, 0, 0]]])\n"
     ]
    }
   ],
   "source": [
    "indices = torch.tensor([[2, 1, 0],[0, 1, 2], [0, 1, 2]])\n",
    "values = torch.tensor([3, 4, 5])\n",
    "c = torch.sparse_coo_tensor(indices, values, (3, 3, 3))\n",
    "print(c)\n",
    "print(c.type())\n",
    "print(c.to_dense())  # 转换为稠密张量"
   ]
  },
  {
   "cell_type": "code",
   "execution_count": 6,
   "id": "ab73f914",
   "metadata": {},
   "outputs": [
    {
     "name": "stdout",
     "output_type": "stream",
     "text": [
      "tensor(indices=tensor([[2, 1, 0],\n",
      "                       [0, 1, 2],\n",
      "                       [0, 1, 2]]),\n",
      "       values=tensor([3., 4., 5.]),\n",
      "       device='cuda:0', size=(3, 3, 3), nnz=3, layout=torch.sparse_coo)\n",
      "torch.cuda.sparse.FloatTensor\n"
     ]
    }
   ],
   "source": [
    "# 指定稀疏张量的类型和设备\n",
    "d = torch.sparse_coo_tensor(indices, values, (3, 3, 3), dtype=torch.float32, device=dev)\n",
    "print(d)\n",
    "print(d.type())"
   ]
  }
 ],
 "metadata": {
  "kernelspec": {
   "display_name": "base",
   "language": "python",
   "name": "python3"
  },
  "language_info": {
   "codemirror_mode": {
    "name": "ipython",
    "version": 3
   },
   "file_extension": ".py",
   "mimetype": "text/x-python",
   "name": "python",
   "nbconvert_exporter": "python",
   "pygments_lexer": "ipython3",
   "version": "3.12.7"
  }
 },
 "nbformat": 4,
 "nbformat_minor": 5
}
